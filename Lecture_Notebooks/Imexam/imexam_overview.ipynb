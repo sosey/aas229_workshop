{
 "cells": [
  {
   "cell_type": "markdown",
   "metadata": {},
   "source": [
    "<h1>Imexam Overview </h1>\n",
    "\n",
    "\n",
    "The <a href=\"http://imexam.readthedocs.io\">imexam</a> library was initially concieved as a replacement for the IRAF task of the same name, providing users who were used to using IRAF in conjunction with an image viewer (such as SAOImage DS9) the same functionality in Python.\n",
    "\n",
    "However, it was developed as a lightweight, extensible package that allows users to interact with arrays in a consistent way across different image viewers or without any gui interaction at all. This gives users flexibility to design their own experience.\n",
    "\n",
    "    The following notebook will go over three ways which this library can be used to compliment your data anaylsis efforts.\n",
    "    \n",
    "* <p align=\"left\">Demo notebooks for different ways of interacting with the library can be found on the SpaceTelescope github site: https://github.com/spacetelescope/imexam/tree/master/example_notebooks </p>\n",
    "\n",
    "If you have any issues with this notebook or using with any of the imexam interaction, open an issue on the package github repository with the details: http://github.com/spacetelescope/imexam/"
   ]
  },
  {
   "cell_type": "markdown",
   "metadata": {},
   "source": [
    "<h2>Using imexam inside a Jupyter notebook with DS9 as your viewer</h2>\n",
    "<p align=\"left\">DS9 can be used as a viewer for the imexam package. While the DS9 viewer is active you have access to all the DS9 menu options as well, and imexam will attempt to keep track of changes you make through either the command line or the DS9 GUI menus. </p>\n",
    "\n",
    "\n",
    "\n",
    "* <p align=\"left\">Communication with the DS9 display window is done through the XPA. More information on the XPA access points which are available can be found here: http://ds9.si.edu/doc/ref/xpa.html <br>\n",
    "\n",
    "Many of the most commonly used access points have been wrapped inside imexam to make their use easier and more uniform across different viewers. However, any function not wrapped can be called directly as described in the XPA documentation linked above. </p> In order to access the xpa from imexam, start a connection to a ds9 window using the connect() method, the resulting object will have a window.xpa.set and window.xpa.get method attached to it."
   ]
  },
  {
   "cell_type": "code",
   "execution_count": null,
   "metadata": {
    "collapsed": false
   },
   "outputs": [],
   "source": [
    "#show plots outside the notebook using your default backend, here I'm using Qt4Agg\n",
    "%matplotlib "
   ]
  },
  {
   "cell_type": "markdown",
   "metadata": {
    "collapsed": true
   },
   "source": [
    "<h3> Ok, now on to the good stuff!</h3>"
   ]
  },
  {
   "cell_type": "code",
   "execution_count": null,
   "metadata": {
    "collapsed": true
   },
   "outputs": [],
   "source": [
    "import imexam"
   ]
  },
  {
   "cell_type": "code",
   "execution_count": null,
   "metadata": {
    "collapsed": true
   },
   "outputs": [],
   "source": [
    "imexam.display_help() # display help for the imexam package on readthedocs"
   ]
  },
  {
   "cell_type": "code",
   "execution_count": null,
   "metadata": {
    "collapsed": true
   },
   "outputs": [],
   "source": [
    "imexam.display_xpa_help()  # pull up the XPA help documents"
   ]
  },
  {
   "cell_type": "code",
   "execution_count": null,
   "metadata": {
    "collapsed": true
   },
   "outputs": [],
   "source": [
    "a=imexam.connect() #starts up a DS9 window by default when no options are specified"
   ]
  },
  {
   "cell_type": "markdown",
   "metadata": {},
   "source": [
    "It's also possible to connect to a DS9 window which you already have running, just give the name of the window to the connect function. In this case it's often helpful if you start your DS9 session and give the window an explicit name:\n",
    "```\n",
    "> ds9 -title megan\n",
    "```\n",
    "Now the DS9 window pops up with the name \"megan\". This can make it easier to attach to multiple sessions which are already running without much thought. \n",
    "\n",
    "```\n",
    "> a=imexam.connect('megan')\n",
    "```\n",
    "\n",
    "If you forget to do this, it's still ok! You can list the currently active windows, and even cycle through them by popping them off the list:\n",
    "\n",
    "```\n",
    "In [2]: windows=imexam.list_active_ds9()\n",
    "DS9 ds9 gs c0a80106:61915 sosey\n",
    "\n",
    "In [3]: list(windows)\n",
    "Out[3]: ['c0a80106:61915']\n",
    "\n",
    "```"
   ]
  },
  {
   "cell_type": "markdown",
   "metadata": {},
   "source": [
    "<p align=left> I'm going to use a FITS image I have on my machine, you can substitute with your own, or execute the code below to create an example numpy array to use instead, I'll show an example of this further down</p>\n",
    "\n",
    "    import numpy\n",
    "    data=numpy.random.rand(100,100)"
   ]
  },
  {
   "cell_type": "code",
   "execution_count": null,
   "metadata": {
    "collapsed": false
   },
   "outputs": [],
   "source": [
    "a.load_fits('./iacs01t4q_flt.fits') #display fits image in ds9"
   ]
  },
  {
   "cell_type": "code",
   "execution_count": null,
   "metadata": {
    "collapsed": true
   },
   "outputs": [],
   "source": [
    "a.scale() #scale the image using a zscale algorithm (the default)"
   ]
  },
  {
   "cell_type": "code",
   "execution_count": null,
   "metadata": {
    "collapsed": false,
    "scrolled": true
   },
   "outputs": [],
   "source": [
    "a.grab() # Optional if you want to save a view in the notebook for reference, if using the notebook backend\n",
    "\n",
    "# as seen below, if you are displaying images outside the notebook, they will be saved to file."
   ]
  },
  {
   "cell_type": "markdown",
   "metadata": {},
   "source": [
    "<h3>In order to interact directly with the DS9 window, we have to start up a loop which looks for mouse and keyboard press events. In order to get out of this loop, press the \"q\" key </h3>"
   ]
  },
  {
   "cell_type": "code",
   "execution_count": null,
   "metadata": {
    "collapsed": false
   },
   "outputs": [],
   "source": [
    "a.imexam()"
   ]
  },
  {
   "cell_type": "code",
   "execution_count": null,
   "metadata": {
    "collapsed": false
   },
   "outputs": [],
   "source": [
    "a.jimexam()"
   ]
  },
  {
   "cell_type": "code",
   "execution_count": null,
   "metadata": {
    "collapsed": true
   },
   "outputs": [],
   "source": [
    "a.set_plot_pars?"
   ]
  },
  {
   "cell_type": "code",
   "execution_count": null,
   "metadata": {
    "collapsed": false
   },
   "outputs": [],
   "source": [
    "a.eimexam()"
   ]
  },
  {
   "cell_type": "code",
   "execution_count": null,
   "metadata": {
    "collapsed": false
   },
   "outputs": [],
   "source": [
    "#You can customize the plotting parameters (or any function in the imexam loop)\n",
    "a.set_plot_pars('e','title','This is my favorite galaxy')\n",
    "a.set_plot_pars('e','ncontours',4)\n",
    "a.set_plot_pars('e','cmap','YlOrRd') #see http://matplotlib.org/users/colormaps.html"
   ]
  },
  {
   "cell_type": "code",
   "execution_count": null,
   "metadata": {
    "collapsed": false
   },
   "outputs": [],
   "source": [
    "a.imexam()"
   ]
  },
  {
   "cell_type": "code",
   "execution_count": null,
   "metadata": {
    "collapsed": false
   },
   "outputs": [],
   "source": [
    "a.unlearn() #you can always go back to the default plot settings\n",
    "a.eimexam()"
   ]
  },
  {
   "cell_type": "code",
   "execution_count": null,
   "metadata": {
    "collapsed": false
   },
   "outputs": [],
   "source": [
    "#maybe we want to change the colormap on the DS9 display? You can see the available maps:\n",
    "a.cmap()"
   ]
  },
  {
   "cell_type": "code",
   "execution_count": null,
   "metadata": {
    "collapsed": true
   },
   "outputs": [],
   "source": [
    "a.cmap(color='heat')"
   ]
  },
  {
   "cell_type": "code",
   "execution_count": null,
   "metadata": {
    "collapsed": true
   },
   "outputs": [],
   "source": [
    "data=a.get_data() #grab the data to play with it from the command line"
   ]
  },
  {
   "cell_type": "code",
   "execution_count": null,
   "metadata": {
    "collapsed": false
   },
   "outputs": [],
   "source": [
    "data"
   ]
  },
  {
   "cell_type": "code",
   "execution_count": null,
   "metadata": {
    "collapsed": true
   },
   "outputs": [],
   "source": [
    "#you can also get the header, which will be returned as a string\n",
    "header=a.get_header()"
   ]
  },
  {
   "cell_type": "code",
   "execution_count": null,
   "metadata": {
    "collapsed": false
   },
   "outputs": [],
   "source": [
    "print(header)"
   ]
  },
  {
   "cell_type": "markdown",
   "metadata": {},
   "source": [
    "<h3>Quick photometry can be pulled with the \"a\" key and uses the photutils package to do the work. More information on photutils can be found at http://photutils.readthedocs.org/en/latest/\n",
    "\n",
    "You can also look at the example DS9 photometry notebook in the imexam repository which uses photutils."
   ]
  },
  {
   "cell_type": "code",
   "execution_count": null,
   "metadata": {
    "collapsed": false
   },
   "outputs": [],
   "source": [
    "#any numpy array can be displayed in the viewer\n",
    "import numpy as np\n",
    "data=np.random.rand(100,100) \n",
    "a.view(data)\n",
    "a.zoomtofit()"
   ]
  },
  {
   "cell_type": "code",
   "execution_count": null,
   "metadata": {
    "collapsed": false
   },
   "outputs": [],
   "source": [
    "a.get_viewer_info() #display information on what is being displayed in the viewer"
   ]
  },
  {
   "cell_type": "code",
   "execution_count": null,
   "metadata": {
    "collapsed": true
   },
   "outputs": [],
   "source": [
    "a.frame(2)#open another frame. This can also be used to switch frames"
   ]
  },
  {
   "cell_type": "code",
   "execution_count": null,
   "metadata": {
    "collapsed": true
   },
   "outputs": [],
   "source": [
    "#or you can use astropy nddata arrays (which really are numpy arrays with meta data)\n",
    "from astropy.nddata import NDData\n",
    "array = np.random.random((12, 12, 12))  # a random 3-dimensional array\n",
    "ndd = NDData(array)\n",
    "a.view(ndd.data[5])\n",
    "a.zoom()"
   ]
  },
  {
   "cell_type": "code",
   "execution_count": null,
   "metadata": {
    "collapsed": true
   },
   "outputs": [],
   "source": [
    "a.close() #disconnect and close DS9 window. This only works for DS9 process started from imexam"
   ]
  },
  {
   "cell_type": "markdown",
   "metadata": {},
   "source": [
    "<h2>Using imexam inside a Jupyter notebook with Ginga</h2>\n",
    "<p align=\"left\"> The Ginga HTML5 canvas viewer can be used as a viewer for the imexam package. While the Ginga viewer is active you have access to all the imexam as well as all the Ginga functions the HTML viewer provides. Some of the examples of Ginga functionality were taken directly from a Ginga demo notebook available on the Ginga github repo.</p>\n",
    "\n",
    "\n",
    "<b>If you are running with Python 3, ginga also requires that pillow be installed. You'll see a blank viewer popup in the html window if this is the case. You can \"conda install pillow\" and that should fix the problem. </b>\n"
   ]
  },
  {
   "cell_type": "code",
   "execution_count": null,
   "metadata": {
    "collapsed": false
   },
   "outputs": [],
   "source": [
    "# you have to restart the kernel if you're switching backends\n",
    "%matplotlib notebook \n",
    "import imexam"
   ]
  },
  {
   "cell_type": "code",
   "execution_count": null,
   "metadata": {
    "collapsed": false
   },
   "outputs": [],
   "source": [
    "a=imexam.connect(viewer='ginga') #stars up a new tab with the ginga HTML5 viewer"
   ]
  },
  {
   "cell_type": "code",
   "execution_count": null,
   "metadata": {
    "collapsed": false
   },
   "outputs": [],
   "source": [
    "a.load_fits('./iacs01t4q_flt.fits') #display fits image in a separate browser window, same as in DS9"
   ]
  },
  {
   "cell_type": "markdown",
   "metadata": {},
   "source": [
    "<p align=\"left\">When using a Ginga window the imexam() function is event driven. This means that while looking at the image, pressing the \"i\" key will enter you into imexam mode. Subsequent pressing of the \"q\" key will put you back in regular viewing mode. </p>\n",
    "\n",
    "<p align=\"left\">While in imexam mode, the analysis keys are mapped to the imexam functions and the results will be returned in the notebook</p>"
   ]
  },
  {
   "cell_type": "code",
   "execution_count": null,
   "metadata": {
    "collapsed": false
   },
   "outputs": [],
   "source": [
    "#No list of commands is printed with the event driven imexam, but you can always \n",
    "#see what the available commands are by issuing the imexam() call:\n",
    "a.imexam()"
   ]
  },
  {
   "cell_type": "code",
   "execution_count": null,
   "metadata": {
    "collapsed": false
   },
   "outputs": [],
   "source": [
    "# you can  save a copy of the current viewing window\n",
    "a.window.ginga_view.show()"
   ]
  },
  {
   "cell_type": "code",
   "execution_count": null,
   "metadata": {
    "collapsed": false
   },
   "outputs": [],
   "source": [
    "#besides making plots you can also get basic aperture photometry using the \"a\" key, try that now"
   ]
  },
  {
   "cell_type": "code",
   "execution_count": null,
   "metadata": {
    "collapsed": true
   },
   "outputs": [],
   "source": [
    "#if you are using the ginga viewer, you can return the full Ginga image object and use any\n",
    "#of the methods which are enabled for it. You can look here for the Ginga quick reference: \n",
    "#http://ginga.readthedocs.org/en/latest/quickref.html\n",
    "img=a.get_image()"
   ]
  },
  {
   "cell_type": "code",
   "execution_count": null,
   "metadata": {
    "collapsed": false
   },
   "outputs": [],
   "source": [
    "type(img)"
   ]
  },
  {
   "cell_type": "code",
   "execution_count": null,
   "metadata": {
    "collapsed": false
   },
   "outputs": [],
   "source": [
    "img.height, img.width, img.pixtoradec(100,100)"
   ]
  },
  {
   "cell_type": "code",
   "execution_count": null,
   "metadata": {
    "collapsed": false
   },
   "outputs": [],
   "source": [
    "img.pixtoradec(100,100)"
   ]
  },
  {
   "cell_type": "code",
   "execution_count": null,
   "metadata": {
    "collapsed": true
   },
   "outputs": [],
   "source": [
    "canvas=a.window.ginga_view.add_canvas()\n",
    "canvas.delete_all_objects()\n",
    "canvas.set_drawtype('rectangle')\n",
    "\n",
    "#now you can go to the viewer and draw a rectangle selection box"
   ]
  },
  {
   "cell_type": "code",
   "execution_count": null,
   "metadata": {
    "collapsed": false
   },
   "outputs": [],
   "source": [
    "a.window.ginga_view.show()"
   ]
  },
  {
   "cell_type": "code",
   "execution_count": null,
   "metadata": {
    "collapsed": true
   },
   "outputs": [],
   "source": [
    "from ginga.util import iqcalc\n",
    "iq = iqcalc.IQCalc()\n",
    "\n",
    "#find all the peaks in the rectangle area\n",
    "r = canvas.objects[0]\n",
    "data = img.cutout_shape(r)\n",
    "peaks = iq.find_bright_peaks(data)\n"
   ]
  },
  {
   "cell_type": "code",
   "execution_count": null,
   "metadata": {
    "collapsed": false
   },
   "outputs": [],
   "source": [
    "peaks[-10:] #show the last 10 peaks detected in the cutout"
   ]
  },
  {
   "cell_type": "code",
   "execution_count": null,
   "metadata": {
    "collapsed": false
   },
   "outputs": [],
   "source": [
    "objs = iq.evaluate_peaks(peaks, data)"
   ]
  },
  {
   "cell_type": "code",
   "execution_count": null,
   "metadata": {
    "collapsed": false
   },
   "outputs": [],
   "source": [
    "o1=objs[0]\n",
    "o1"
   ]
  },
  {
   "cell_type": "code",
   "execution_count": null,
   "metadata": {
    "collapsed": false
   },
   "outputs": [],
   "source": [
    "# pixel coords are for cutout, so add back in origin of cutout\n",
    "#  to get full data coords RA, DEC of first object\n",
    "x1, y1, x2, y2 = r.get_llur()\n",
    "img.pixtoradec(x1+o1.objx, y1+o1.objy)"
   ]
  },
  {
   "cell_type": "code",
   "execution_count": null,
   "metadata": {
    "collapsed": false
   },
   "outputs": [],
   "source": [
    "# Draw circles around all objects\n",
    "Circle = canvas.get_draw_class('circle')\n",
    "stars=[]\n",
    "for obj in objs:\n",
    "    x, y = x1+obj.objx, y1+obj.objy\n",
    "    if r.contains(x, y):\n",
    "        canvas.add(Circle(x, y, radius=10, color='yellow'))\n",
    "        stars.append((x,y))\n",
    "        \n",
    "        \n",
    "# set pan and zoom to center\n",
    "a.panto_image((x1+x2)/2, (y1+y2)/2)\n",
    "a.window.ginga_view.scale_to(0.75, 0.75)"
   ]
  },
  {
   "cell_type": "code",
   "execution_count": null,
   "metadata": {
    "collapsed": false
   },
   "outputs": [],
   "source": [
    "a.window.ginga_view.show()"
   ]
  },
  {
   "cell_type": "code",
   "execution_count": null,
   "metadata": {
    "collapsed": false
   },
   "outputs": [],
   "source": [
    "#lets look at one of the stars closer\n",
    "a.zoom(6)\n",
    "a.panto_image(stars[12][0],stars[12][1])\n",
    "canvas.add(Circle(stars[12][0],stars[12][1], radius=10, color='blue'))"
   ]
  },
  {
   "cell_type": "code",
   "execution_count": null,
   "metadata": {
    "collapsed": true
   },
   "outputs": [],
   "source": [
    "a.zoom(30)  # lets get a little closer"
   ]
  },
  {
   "cell_type": "code",
   "execution_count": null,
   "metadata": {
    "collapsed": false
   },
   "outputs": [],
   "source": [
    "a.close() #for ginga, there isn't an automatic window close for the HTML5 canvas, this will just stop the server"
   ]
  },
  {
   "cell_type": "code",
   "execution_count": null,
   "metadata": {
    "collapsed": false
   },
   "outputs": [],
   "source": [
    "b=imexam.connect(viewer='ginga', port=5478)"
   ]
  },
  {
   "cell_type": "code",
   "execution_count": null,
   "metadata": {
    "collapsed": false
   },
   "outputs": [],
   "source": [
    "#Ginga also has colormaps\n",
    "b.cmap(color=\"spiffy\")\n"
   ]
  },
  {
   "cell_type": "code",
   "execution_count": null,
   "metadata": {
    "collapsed": false
   },
   "outputs": [],
   "source": [
    "b.cmap(color='smooth2')"
   ]
  },
  {
   "cell_type": "code",
   "execution_count": null,
   "metadata": {
    "collapsed": false
   },
   "outputs": [],
   "source": [
    "b.view(data)\n"
   ]
  },
  {
   "cell_type": "code",
   "execution_count": null,
   "metadata": {
    "collapsed": false
   },
   "outputs": [],
   "source": [
    "b.close()"
   ]
  },
  {
   "cell_type": "markdown",
   "metadata": {},
   "source": [
    "<h2>Using imexam without any graphical interaction</h2>\n",
    "<p align=\"left\"> The imexam library can also be used for non-interactive analysis.\n",
    "\n",
    "To do this you import the Imexamine class and create a control object.\n",
    "</p>\n"
   ]
  },
  {
   "cell_type": "code",
   "execution_count": null,
   "metadata": {
    "collapsed": true
   },
   "outputs": [],
   "source": [
    "from imexam.imexamine import Imexamine\n",
    "from astropy.io import fits"
   ]
  },
  {
   "cell_type": "code",
   "execution_count": null,
   "metadata": {
    "collapsed": true
   },
   "outputs": [],
   "source": [
    "plots=Imexamine() #the plots object now has all the imexam functions available"
   ]
  },
  {
   "cell_type": "code",
   "execution_count": null,
   "metadata": {
    "collapsed": true
   },
   "outputs": [],
   "source": [
    "#now, grab some data, associate it with the plot object\n",
    "data=fits.getdata('./iacs01t4q_flt.fits')\n",
    "plots.set_data(data)"
   ]
  },
  {
   "cell_type": "code",
   "execution_count": null,
   "metadata": {
    "collapsed": false
   },
   "outputs": [],
   "source": [
    "radii,flux=plots.radial_profile(532,415,genplot=False) #save the radial profile data"
   ]
  },
  {
   "cell_type": "code",
   "execution_count": null,
   "metadata": {
    "collapsed": false
   },
   "outputs": [],
   "source": [
    "print(radii)"
   ]
  },
  {
   "cell_type": "code",
   "execution_count": null,
   "metadata": {
    "collapsed": false
   },
   "outputs": [],
   "source": [
    "print(flux)"
   ]
  },
  {
   "cell_type": "code",
   "execution_count": null,
   "metadata": {
    "collapsed": false
   },
   "outputs": [],
   "source": [
    "plots.radial_profile(532,415) #save the radial profile data"
   ]
  },
  {
   "cell_type": "code",
   "execution_count": null,
   "metadata": {
    "collapsed": true
   },
   "outputs": [],
   "source": [
    "#now, if you decide to make a plot, you can still do that\n",
    "import matplotlib.pyplot as plt"
   ]
  },
  {
   "cell_type": "code",
   "execution_count": null,
   "metadata": {
    "collapsed": false
   },
   "outputs": [],
   "source": [
    "plt.plot(radii,flux,'D')"
   ]
  },
  {
   "cell_type": "code",
   "execution_count": null,
   "metadata": {
    "collapsed": false
   },
   "outputs": [],
   "source": [
    "plots.radial_profile_pars"
   ]
  },
  {
   "cell_type": "code",
   "execution_count": null,
   "metadata": {
    "collapsed": true
   },
   "outputs": [],
   "source": [
    "plots.radial_profile_pars['marker'][0]='D'"
   ]
  },
  {
   "cell_type": "code",
   "execution_count": null,
   "metadata": {
    "collapsed": false
   },
   "outputs": [],
   "source": [
    "plots.radial_profile(532,415) #save the radial profile data"
   ]
  },
  {
   "cell_type": "code",
   "execution_count": null,
   "metadata": {
    "collapsed": false
   },
   "outputs": [],
   "source": [
    "plots.aper_phot(532,415) #just return the photometry"
   ]
  },
  {
   "cell_type": "code",
   "execution_count": null,
   "metadata": {
    "collapsed": false
   },
   "outputs": [],
   "source": [
    "cog=plots.curve_of_growth(532,415,genplot=False) #curve of growth"
   ]
  },
  {
   "cell_type": "code",
   "execution_count": null,
   "metadata": {
    "collapsed": false
   },
   "outputs": [],
   "source": [
    "cog #just an example illustrating that functions return tuples"
   ]
  },
  {
   "cell_type": "code",
   "execution_count": null,
   "metadata": {
    "collapsed": false
   },
   "outputs": [],
   "source": [
    "#you can separate them afterwards too:\n",
    "radius,flux=cog\n",
    "print(radius)\n",
    "print(flux)"
   ]
  },
  {
   "cell_type": "code",
   "execution_count": null,
   "metadata": {
    "collapsed": false
   },
   "outputs": [],
   "source": [
    "gauss=plots.line_fit(532,415,genplot=False) #return the gaussian fit model"
   ]
  },
  {
   "cell_type": "code",
   "execution_count": null,
   "metadata": {
    "collapsed": false
   },
   "outputs": [],
   "source": [
    "gauss.stddev #you can check out the model parameters"
   ]
  },
  {
   "cell_type": "code",
   "execution_count": null,
   "metadata": {
    "collapsed": false
   },
   "outputs": [],
   "source": [
    "#if you want the fwhm you can pull in the function imexam uses or create your own\n",
    "from imexam import math_helper\n",
    "math_helper.gfwhm(gauss.stddev) "
   ]
  },
  {
   "cell_type": "code",
   "execution_count": null,
   "metadata": {
    "collapsed": true
   },
   "outputs": [],
   "source": []
  }
 ],
 "metadata": {
  "anaconda-cloud": {},
  "kernelspec": {
   "display_name": "Python [conda env:aas229-workshop]",
   "language": "python",
   "name": "conda-env-aas229-workshop-py"
  },
  "language_info": {
   "codemirror_mode": {
    "name": "ipython",
    "version": 3
   },
   "file_extension": ".py",
   "mimetype": "text/x-python",
   "name": "python",
   "nbconvert_exporter": "python",
   "pygments_lexer": "ipython3",
   "version": "3.5.2"
  }
 },
 "nbformat": 4,
 "nbformat_minor": 1
}
