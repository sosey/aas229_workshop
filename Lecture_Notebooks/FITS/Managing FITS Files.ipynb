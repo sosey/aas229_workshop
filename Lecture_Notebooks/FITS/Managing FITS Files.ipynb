{
 "cells": [
  {
   "cell_type": "markdown",
   "metadata": {},
   "source": [
    "### Working with FITS files"
   ]
  },
  {
   "cell_type": "code",
   "execution_count": null,
   "metadata": {
    "collapsed": true
   },
   "outputs": [],
   "source": [
    "from astropy.io import fits"
   ]
  },
  {
   "cell_type": "markdown",
   "metadata": {},
   "source": [
    "The *open()* function in [astropy.io.fits](http://docs.astropy.org/en/stable/io/fits/index.html#) works with regular and compressed files.\n",
    "\n",
    "Open a FITS file and look at the contents:"
   ]
  },
  {
   "cell_type": "code",
   "execution_count": null,
   "metadata": {
    "collapsed": false
   },
   "outputs": [],
   "source": [
    "f = fits.open('j94f05bgq_flt.fits.gz')\n",
    "f.info()\n",
    "f.close()"
   ]
  },
  {
   "cell_type": "code",
   "execution_count": null,
   "metadata": {
    "collapsed": false
   },
   "outputs": [],
   "source": [
    "fits.info('j94f05bgq_flt.fits.gz')"
   ]
  },
  {
   "cell_type": "code",
   "execution_count": null,
   "metadata": {
    "collapsed": false
   },
   "outputs": [],
   "source": [
    "type(f)"
   ]
  },
  {
   "cell_type": "markdown",
   "metadata": {},
   "source": [
    "FITS file objects are like lists. Individual HDUs are indexed like lists."
   ]
  },
  {
   "cell_type": "code",
   "execution_count": null,
   "metadata": {
    "collapsed": false
   },
   "outputs": [],
   "source": [
    "f[1]"
   ]
  },
  {
   "cell_type": "markdown",
   "metadata": {},
   "source": [
    "or using a (EXTNAME, EXTVER) tuple."
   ]
  },
  {
   "cell_type": "code",
   "execution_count": null,
   "metadata": {
    "collapsed": false
   },
   "outputs": [],
   "source": [
    "f[(\"SCI\", 1)]"
   ]
  },
  {
   "cell_type": "markdown",
   "metadata": {},
   "source": [
    "astropy v 1.3 implements lazy loading of FITS files. To turn the feature off pass *lazy_load_hdus=False* to read all\n",
    "the HDUs into memory immediately upon opening the file."
   ]
  },
  {
   "cell_type": "code",
   "execution_count": null,
   "metadata": {
    "collapsed": false
   },
   "outputs": [],
   "source": [
    "f.info()"
   ]
  },
  {
   "cell_type": "markdown",
   "metadata": {},
   "source": [
    "### Working with headers"
   ]
  },
  {
   "cell_type": "markdown",
   "metadata": {},
   "source": [
    "Headers are similar to python dictionaries.\n",
    "Look at a header, modify an existing keyword and add a new card."
   ]
  },
  {
   "cell_type": "code",
   "execution_count": null,
   "metadata": {
    "collapsed": false
   },
   "outputs": [],
   "source": [
    "with fits.open('j94f05bgq_flt.fits.gz', mode='update') as f:\n",
    "    # Updating a keyword\n",
    "    print(\"crpix1: \", f[1].header['crpix1'])\n",
    "    f[1].header['crpix1'] = 12\n",
    "    print(\"Updated crpix1 :\", f[1].header['crpix1'])\n",
    "    "
   ]
  },
  {
   "cell_type": "markdown",
   "metadata": {},
   "source": [
    "Opening a FITS file using the Python *with* statement\n",
    "ensures that the file is closed without explicitely doing so."
   ]
  },
  {
   "cell_type": "markdown",
   "metadata": {},
   "source": [
    "There are several ways to add a new card.\n",
    "\n",
    "Note: Attempting to access a non-existing keyword raises a *KeyError*."
   ]
  },
  {
   "cell_type": "code",
   "execution_count": null,
   "metadata": {
    "collapsed": false
   },
   "outputs": [],
   "source": [
    "#print(f[1].header['observer'])\n",
    "    "
   ]
  },
  {
   "cell_type": "code",
   "execution_count": null,
   "metadata": {
    "collapsed": false
   },
   "outputs": [],
   "source": [
    "f[1].header['observer'] = \"Edwin Hubble\"\n",
    "    \n",
    "# Assigning a tuple to a keyword splits\n",
    "# the tuple into a keyword value and comment.\n",
    "    \n",
    "f[1].header['NOBS'] = (2, \"Number of observing nights\")\n",
    "print(\"observer:\", f[1].header['observer'])\n",
    "print(f[1].header.comments['NOBS'], f[1].header['NOBS'])"
   ]
  },
  {
   "cell_type": "markdown",
   "metadata": {},
   "source": [
    "To delete a keyword/card use the python *del* operator.\n",
    "\n",
    "Again a *KeyError* is raised if the keyword is not in the header."
   ]
  },
  {
   "cell_type": "code",
   "execution_count": null,
   "metadata": {
    "collapsed": false
   },
   "outputs": [],
   "source": [
    "    del f[1].header['NOBS']\n",
    "    del f[1].header['observer']\n",
    "    "
   ]
  },
  {
   "cell_type": "markdown",
   "metadata": {},
   "source": [
    "Comment and history cards are added as regular keywords. In this case a new card is always created."
   ]
  },
  {
   "cell_type": "code",
   "execution_count": null,
   "metadata": {
    "collapsed": false
   },
   "outputs": [],
   "source": [
    "with fits.open('j94f05bgq_flt.fits.gz', mode='update') as f:\n",
    "    f[1].header[\"history\"] = \"New history card.\"\n",
    "    f[1].header[\"comment\"] = \"This is a 47 Tuc observation with HST\"\n",
    "    f[1].header[\"comment\"] = \"I'd like to observe it with JWST.\"\n",
    "    f[1].header['comment']\n",
    "    print(f[1].header['comment'])"
   ]
  },
  {
   "cell_type": "markdown",
   "metadata": {},
   "source": [
    "### Working with image data"
   ]
  },
  {
   "cell_type": "code",
   "execution_count": null,
   "metadata": {
    "collapsed": false
   },
   "outputs": [],
   "source": [
    "f = fits.open('pix.fits.gz')\n",
    "f.info()"
   ]
  },
  {
   "cell_type": "markdown",
   "metadata": {},
   "source": [
    "An image is a numpy array saved as the data part of an HDU."
   ]
  },
  {
   "cell_type": "code",
   "execution_count": null,
   "metadata": {
    "collapsed": false
   },
   "outputs": [],
   "source": [
    "scidata = f[0].data\n",
    "print(scidata.shape)\n",
    "print(scidata.dtype)"
   ]
  },
  {
   "cell_type": "markdown",
   "metadata": {},
   "source": [
    "*scidata* is a pointer to the data array of the HDU and if it changes, the data in the HDU changes as well."
   ]
  },
  {
   "cell_type": "code",
   "execution_count": null,
   "metadata": {
    "collapsed": false
   },
   "outputs": [],
   "source": [
    "# All operations available to NDArray are applicable to the fits data array.\n",
    "scidata[2:10, 3:7].mean()"
   ]
  },
  {
   "cell_type": "code",
   "execution_count": null,
   "metadata": {
    "collapsed": false
   },
   "outputs": [],
   "source": [
    "%matplotlib inline\n",
    "from matplotlib import pyplot as plt\n",
    "plt.imshow(scidata, vmin=50, vmax=150, cmap='gray')"
   ]
  },
  {
   "cell_type": "markdown",
   "metadata": {},
   "source": [
    "astropy.io.fits provides convenience functions to operate on \n",
    "fits files. These are good for interactive and quick lookup use.\n",
    "It is recommended to use the OO interface for programming."
   ]
  },
  {
   "cell_type": "code",
   "execution_count": null,
   "metadata": {
    "collapsed": false
   },
   "outputs": [],
   "source": [
    "# Get the data from an HDU \n",
    "data = fits.getdata('pix.fits.gz')\n",
    "print(\"min, max: \", data.min(), data.max())"
   ]
  },
  {
   "cell_type": "code",
   "execution_count": null,
   "metadata": {
    "collapsed": false
   },
   "outputs": [],
   "source": [
    "# Get a keyword value\n",
    "wcsaxes = fits.getval('j94f05bgq_flt.fits.gz', keyword=\"WCSAXES\", ext=1)\n",
    "print(\"wcsaxes:\", wcsaxes)"
   ]
  },
  {
   "cell_type": "code",
   "execution_count": null,
   "metadata": {
    "collapsed": false
   },
   "outputs": [],
   "source": [
    "# Set a keyword value\n",
    "fits.setval(\"j94f05bgq_flt.fits.gz\", keyword=\"observer\", value=\"Edwin Hubble\")\n",
    "\n",
    "print(\"OBSERVER: \", fits.getval(\"j94f05bgq_flt.fits.gz\", keyword=\"OBSERVER\"))"
   ]
  },
  {
   "cell_type": "code",
   "execution_count": null,
   "metadata": {
    "collapsed": false
   },
   "outputs": [],
   "source": [
    "# Remove a keyword from a header\n",
    "fits.delval(\"j94f05bgq_flt.fits.gz\", keyword=\"OBSERVER\")"
   ]
  },
  {
   "cell_type": "markdown",
   "metadata": {},
   "source": [
    "### Working with FITS tables"
   ]
  },
  {
   "cell_type": "markdown",
   "metadata": {},
   "source": [
    "**Note**: The recommended method to read and write a single FITS table is using the [Unified I/O read/write interface](http://docs.astropy.org/en/stable/io/unified.html#table-io-fits).\n",
    "\n",
    "Here we show an example of using [astropy.io.fits](http://docs.astropy.org/en/stable/io/fits/index.html#) as there exists a lot if legacy code which uses it."
   ]
  },
  {
   "cell_type": "code",
   "execution_count": null,
   "metadata": {
    "collapsed": false
   },
   "outputs": [],
   "source": [
    "f = fits.open('table.fits')\n",
    "f.info()"
   ]
  },
  {
   "cell_type": "code",
   "execution_count": null,
   "metadata": {
    "collapsed": false
   },
   "outputs": [],
   "source": [
    "data = f[1].data\n",
    "print(\"Column names: \", data.names)\n",
    "\n",
    "print(\"Row 1: \", data[1])\n",
    "\n",
    "print('Column \"target\": ', data.field(\"target\"))\n",
    "\n",
    "print(\"Numebr of rows: \", len(data))"
   ]
  },
  {
   "cell_type": "markdown",
   "metadata": {},
   "source": [
    "### Working with large files"
   ]
  },
  {
   "cell_type": "markdown",
   "metadata": {},
   "source": [
    "The *open()* function supports a *memmap=True* argument that allows the array data of each HDU to be accessed with mmap, rather than being read into memory all at once. This is particularly useful for working with very large arrays that cannot fit entirely into physical memory."
   ]
  },
  {
   "cell_type": "markdown",
   "metadata": {},
   "source": [
    "### Exercise:\n",
    "\n",
    "Construct programmatically a FITS file with 1 image extension \n",
    "and save it to disk. Use a numpy array with random numbers as \n",
    "data.\n",
    "\n",
    "    Hints: \n",
    "    Use fits.HDUList() to create a FITS file.\n",
    "    Use fits.PrimaryHDU() for the primary HDU and \n",
    "    fits.ImageHDU() for the image HDU. \n",
    "\n",
    "To look at the signature of a python object type one of\n",
    "\n",
    "    >>> help(fits.ImageHDU)\n",
    "    >>> fits.ImageHDU?"
   ]
  },
  {
   "cell_type": "code",
   "execution_count": null,
   "metadata": {
    "collapsed": true
   },
   "outputs": [],
   "source": []
  }
 ],
 "metadata": {
  "anaconda-cloud": {},
  "kernelspec": {
   "display_name": "Python [conda env:aas229-workshop]",
   "language": "python",
   "name": "conda-env-aas229-workshop-py"
  },
  "language_info": {
   "codemirror_mode": {
    "name": "ipython",
    "version": 3
   },
   "file_extension": ".py",
   "mimetype": "text/x-python",
   "name": "python",
   "nbconvert_exporter": "python",
   "pygments_lexer": "ipython3",
   "version": "3.5.2"
  }
 },
 "nbformat": 4,
 "nbformat_minor": 2
}
